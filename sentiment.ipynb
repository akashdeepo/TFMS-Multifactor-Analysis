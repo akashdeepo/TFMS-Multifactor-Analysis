{
 "cells": [
  {
   "cell_type": "code",
   "execution_count": 25,
   "metadata": {},
   "outputs": [],
   "source": [
    "from newsapi import NewsApiClient\n",
    "\n",
    "# Init\n",
    "newsapi = NewsApiClient(api_key='251f21b69e8c43e0abfcdf3120a15d82')\n",
    "\n",
    "# /v2/everything\n",
    "all_articles = newsapi.get_everything(q='GOOG',\n",
    "                                      language='en',\n",
    "                                      sort_by='relevancy',\n",
    "                                      page=1)\n",
    "\n",
    "# Extract the news articles from the response\n",
    "news = all_articles[\"articles\"]\n",
    "\n",
    "# Store the news titles in a list\n",
    "news_list = [news_item[\"title\"] for news_item in news]\n"
   ]
  },
  {
   "cell_type": "code",
   "execution_count": 26,
   "metadata": {},
   "outputs": [],
   "source": [
    "from textblob import TextBlob\n",
    "\n",
    "# Function to perform sentiment analysis\n",
    "def sentiment_analysis(news):\n",
    "    analysis = TextBlob(news)\n",
    "    if analysis.sentiment.polarity > 0:\n",
    "        return \"positive\"\n",
    "    elif analysis.sentiment.polarity == 0:\n",
    "        return \"neutral\"\n",
    "    else:\n",
    "        return \"negative\"\n",
    "\n",
    "# Perform sentiment analysis on each news article\n",
    "sentiments = [sentiment_analysis(news) for news in news_list]\n"
   ]
  },
  {
   "cell_type": "code",
   "execution_count": 27,
   "metadata": {},
   "outputs": [],
   "source": [
    "import pandas as pd\n",
    "\n",
    "# Create a DataFrame with the news articles and their sentiments\n",
    "df = pd.DataFrame({\"news\": news_list, \"sentiment\": sentiments})\n"
   ]
  },
  {
   "cell_type": "code",
   "execution_count": 28,
   "metadata": {},
   "outputs": [
    {
     "data": {
      "image/png": "[encoded data removed]",
      "text/plain": [
       "<Figure size 432x288 with 1 Axes>"
      ]
     },
     "metadata": {
      "needs_background": "light"
     },
     "output_type": "display_data"
    }
   ],
   "source": [
    "import matplotlib.pyplot as plt\n",
    "\n",
    "# Plot the sentiment distribution\n",
    "df[\"sentiment\"].value_counts().plot(kind='bar')\n",
    "plt.xlabel(\"Sentiment\")\n",
    "plt.ylabel(\"Count\")\n",
    "plt.title(\"Sentiment Distribution of GOOG News\")\n",
    "plt.show()\n"
   ]
  },
  {
   "cell_type": "code",
   "execution_count": 29,
   "metadata": {},
   "outputs": [],
   "source": [
    "from textblob import TextBlob\n",
    "\n",
    "# Function to perform sentiment analysis\n",
    "def sentiment_analysis(news):\n",
    "    analysis = TextBlob(news)\n",
    "    return analysis.sentiment.polarity\n",
    "\n",
    "# Perform sentiment analysis on each news article\n",
    "scores = [sentiment_analysis(news) for news in news_list]\n"
   ]
  },
  {
   "cell_type": "code",
   "execution_count": 30,
   "metadata": {},
   "outputs": [
    {
     "name": "stdout",
     "output_type": "stream",
     "text": [
      "Average score: 0.16320189694564693\n"
     ]
    }
   ],
   "source": [
    "# Calculate the average score\n",
    "average_score = sum(scores) / len(scores)\n",
    "\n",
    "# Print the average score\n",
    "print(\"Average score:\", average_score)\n"
   ]
  }
 ],
 "metadata": {
  "kernelspec": {
   "display_name": "Python 3",
   "language": "python",
   "name": "python3"
  },
  "language_info": {
   "codemirror_mode": {
    "name": "ipython",
    "version": 3
   },
   "file_extension": ".py",
   "mimetype": "text/x-python",
   "name": "python",
   "nbconvert_exporter": "python",
   "pygments_lexer": "ipython3",
   "version": "3.10.4"
  },
  "orig_nbformat": 4,
  "vscode": {
   "interpreter": {
    "hash": "553938beef47038dfb95f51e64d059a1195c8ba1d56a7d809f7c9076f321f3c1"
   }
  }
 },
 "nbformat": 4,
 "nbformat_minor": 2
}
